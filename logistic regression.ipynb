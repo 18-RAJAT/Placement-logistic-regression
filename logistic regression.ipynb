{
 "cells": [
  {
   "cell_type": "code",
   "execution_count": 1,
   "metadata": {
    "collapsed": true
   },
   "outputs": [],
   "source": [
    "import numpy as np\n",
    "import pandas as pd\n",
    "import matplotlib.pyplot as plt\n",
    "from sklearn.model_selection import train_test_split"
   ]
  },
  {
   "cell_type": "code",
   "execution_count": 2,
   "outputs": [],
   "source": [
    "df=pd.read_csv(\"placement.csv\")"
   ],
   "metadata": {
    "collapsed": false
   }
  },
  {
   "cell_type": "code",
   "execution_count": 3,
   "outputs": [
    {
     "data": {
      "text/plain": "   Unnamed: 0  cgpa     iq  placement\n0           0   6.8  123.0          1\n1           1   5.9  106.0          0\n2           2   5.3  121.0          0",
      "text/html": "<div>\n<style scoped>\n    .dataframe tbody tr th:only-of-type {\n        vertical-align: middle;\n    }\n\n    .dataframe tbody tr th {\n        vertical-align: top;\n    }\n\n    .dataframe thead th {\n        text-align: right;\n    }\n</style>\n<table border=\"1\" class=\"dataframe\">\n  <thead>\n    <tr style=\"text-align: right;\">\n      <th></th>\n      <th>Unnamed: 0</th>\n      <th>cgpa</th>\n      <th>iq</th>\n      <th>placement</th>\n    </tr>\n  </thead>\n  <tbody>\n    <tr>\n      <th>0</th>\n      <td>0</td>\n      <td>6.8</td>\n      <td>123.0</td>\n      <td>1</td>\n    </tr>\n    <tr>\n      <th>1</th>\n      <td>1</td>\n      <td>5.9</td>\n      <td>106.0</td>\n      <td>0</td>\n    </tr>\n    <tr>\n      <th>2</th>\n      <td>2</td>\n      <td>5.3</td>\n      <td>121.0</td>\n      <td>0</td>\n    </tr>\n  </tbody>\n</table>\n</div>"
     },
     "execution_count": 3,
     "metadata": {},
     "output_type": "execute_result"
    }
   ],
   "source": [
    "df.head(3)"
   ],
   "metadata": {
    "collapsed": false
   }
  },
  {
   "cell_type": "code",
   "execution_count": 4,
   "outputs": [
    {
     "data": {
      "text/plain": "    Unnamed: 0  cgpa     iq  placement\n95          95   4.3  200.0          0\n96          96   4.4   42.0          0\n97          97   6.7  182.0          1\n98          98   6.3  103.0          1\n99          99   6.2  113.0          1",
      "text/html": "<div>\n<style scoped>\n    .dataframe tbody tr th:only-of-type {\n        vertical-align: middle;\n    }\n\n    .dataframe tbody tr th {\n        vertical-align: top;\n    }\n\n    .dataframe thead th {\n        text-align: right;\n    }\n</style>\n<table border=\"1\" class=\"dataframe\">\n  <thead>\n    <tr style=\"text-align: right;\">\n      <th></th>\n      <th>Unnamed: 0</th>\n      <th>cgpa</th>\n      <th>iq</th>\n      <th>placement</th>\n    </tr>\n  </thead>\n  <tbody>\n    <tr>\n      <th>95</th>\n      <td>95</td>\n      <td>4.3</td>\n      <td>200.0</td>\n      <td>0</td>\n    </tr>\n    <tr>\n      <th>96</th>\n      <td>96</td>\n      <td>4.4</td>\n      <td>42.0</td>\n      <td>0</td>\n    </tr>\n    <tr>\n      <th>97</th>\n      <td>97</td>\n      <td>6.7</td>\n      <td>182.0</td>\n      <td>1</td>\n    </tr>\n    <tr>\n      <th>98</th>\n      <td>98</td>\n      <td>6.3</td>\n      <td>103.0</td>\n      <td>1</td>\n    </tr>\n    <tr>\n      <th>99</th>\n      <td>99</td>\n      <td>6.2</td>\n      <td>113.0</td>\n      <td>1</td>\n    </tr>\n  </tbody>\n</table>\n</div>"
     },
     "execution_count": 4,
     "metadata": {},
     "output_type": "execute_result"
    }
   ],
   "source": [
    "df.tail(5)"
   ],
   "metadata": {
    "collapsed": false
   }
  },
  {
   "cell_type": "code",
   "execution_count": 5,
   "outputs": [
    {
     "name": "stdout",
     "output_type": "stream",
     "text": [
      "<class 'pandas.core.frame.DataFrame'>\n",
      "RangeIndex: 100 entries, 0 to 99\n",
      "Data columns (total 4 columns):\n",
      " #   Column      Non-Null Count  Dtype  \n",
      "---  ------      --------------  -----  \n",
      " 0   Unnamed: 0  100 non-null    int64  \n",
      " 1   cgpa        100 non-null    float64\n",
      " 2   iq          100 non-null    float64\n",
      " 3   placement   100 non-null    int64  \n",
      "dtypes: float64(2), int64(2)\n",
      "memory usage: 3.2 KB\n"
     ]
    }
   ],
   "source": [
    "df.info()"
   ],
   "metadata": {
    "collapsed": false
   }
  },
  {
   "cell_type": "code",
   "execution_count": 6,
   "outputs": [
    {
     "data": {
      "text/plain": "(100, 4)"
     },
     "execution_count": 6,
     "metadata": {},
     "output_type": "execute_result"
    }
   ],
   "source": [
    "df.shape"
   ],
   "metadata": {
    "collapsed": false
   }
  },
  {
   "cell_type": "code",
   "execution_count": 7,
   "outputs": [],
   "source": [
    "# Steps\n",
    "\n",
    "# 0. Preprocess + EDA + Feature Selection\n",
    "# 1. Extract input and output cols\n",
    "# 2. Scale the values\n",
    "# 3. Train test split\n",
    "# 4. Train the model\n",
    "# 5. Evaluate the model/model selection\n",
    "# 6. Deploy the model"
   ],
   "metadata": {
    "collapsed": false
   }
  },
  {
   "cell_type": "code",
   "execution_count": 8,
   "outputs": [
    {
     "data": {
      "text/plain": "<matplotlib.collections.PathCollection at 0x2403539d7d0>"
     },
     "execution_count": 8,
     "metadata": {},
     "output_type": "execute_result"
    },
    {
     "data": {
      "text/plain": "<Figure size 640x480 with 1 Axes>",
      "image/png": "[encoded data removed]"
     },
     "metadata": {},
     "output_type": "display_data"
    }
   ],
   "source": [
    "plt.scatter(df['cgpa'],df['iq'],c=df['placement'])"
   ],
   "metadata": {
    "collapsed": false
   }
  },
  {
   "cell_type": "code",
   "execution_count": 9,
   "outputs": [
    {
     "data": {
      "text/plain": "(100, 4)"
     },
     "execution_count": 9,
     "metadata": {},
     "output_type": "execute_result"
    }
   ],
   "source": [
    "df.shape"
   ],
   "metadata": {
    "collapsed": false
   }
  },
  {
   "cell_type": "code",
   "execution_count": 10,
   "outputs": [],
   "source": [
    "x=df.iloc[:,0:2]\n",
    "y=df.iloc[:,-1]"
   ],
   "metadata": {
    "collapsed": false
   }
  },
  {
   "cell_type": "code",
   "execution_count": 11,
   "outputs": [
    {
     "data": {
      "text/plain": "    Unnamed: 0  cgpa\n0            0   6.8\n1            1   5.9\n2            2   5.3\n3            3   7.4\n4            4   5.8\n..         ...   ...\n95          95   4.3\n96          96   4.4\n97          97   6.7\n98          98   6.3\n99          99   6.2\n\n[100 rows x 2 columns]",
      "text/html": "<div>\n<style scoped>\n    .dataframe tbody tr th:only-of-type {\n        vertical-align: middle;\n    }\n\n    .dataframe tbody tr th {\n        vertical-align: top;\n    }\n\n    .dataframe thead th {\n        text-align: right;\n    }\n</style>\n<table border=\"1\" class=\"dataframe\">\n  <thead>\n    <tr style=\"text-align: right;\">\n      <th></th>\n      <th>Unnamed: 0</th>\n      <th>cgpa</th>\n    </tr>\n  </thead>\n  <tbody>\n    <tr>\n      <th>0</th>\n      <td>0</td>\n      <td>6.8</td>\n    </tr>\n    <tr>\n      <th>1</th>\n      <td>1</td>\n      <td>5.9</td>\n    </tr>\n    <tr>\n      <th>2</th>\n      <td>2</td>\n      <td>5.3</td>\n    </tr>\n    <tr>\n      <th>3</th>\n      <td>3</td>\n      <td>7.4</td>\n    </tr>\n    <tr>\n      <th>4</th>\n      <td>4</td>\n      <td>5.8</td>\n    </tr>\n    <tr>\n      <th>...</th>\n      <td>...</td>\n      <td>...</td>\n    </tr>\n    <tr>\n      <th>95</th>\n      <td>95</td>\n      <td>4.3</td>\n    </tr>\n    <tr>\n      <th>96</th>\n      <td>96</td>\n      <td>4.4</td>\n    </tr>\n    <tr>\n      <th>97</th>\n      <td>97</td>\n      <td>6.7</td>\n    </tr>\n    <tr>\n      <th>98</th>\n      <td>98</td>\n      <td>6.3</td>\n    </tr>\n    <tr>\n      <th>99</th>\n      <td>99</td>\n      <td>6.2</td>\n    </tr>\n  </tbody>\n</table>\n<p>100 rows × 2 columns</p>\n</div>"
     },
     "execution_count": 11,
     "metadata": {},
     "output_type": "execute_result"
    }
   ],
   "source": [
    "x"
   ],
   "metadata": {
    "collapsed": false
   }
  },
  {
   "cell_type": "code",
   "execution_count": 12,
   "outputs": [
    {
     "data": {
      "text/plain": "0     1\n1     0\n2     0\n3     1\n4     0\n     ..\n95    0\n96    0\n97    1\n98    1\n99    1\nName: placement, Length: 100, dtype: int64"
     },
     "execution_count": 12,
     "metadata": {},
     "output_type": "execute_result"
    }
   ],
   "source": [
    "y"
   ],
   "metadata": {
    "collapsed": false
   }
  },
  {
   "cell_type": "markdown",
   "source": [
    "# Train the data"
   ],
   "metadata": {
    "collapsed": false
   }
  },
  {
   "cell_type": "code",
   "execution_count": 13,
   "outputs": [],
   "source": [
    "x_train,x_test,y_train,y_test=train_test_split(x,y,test_size=0.2)"
   ],
   "metadata": {
    "collapsed": false
   }
  },
  {
   "cell_type": "code",
   "execution_count": 14,
   "outputs": [
    {
     "data": {
      "text/plain": "    Unnamed: 0  cgpa\n1            1   5.9\n2            2   5.3\n15          15   5.1\n0            0   6.8\n18          18   4.0\n..         ...   ...\n62          62   6.0\n97          97   6.7\n26          26   7.0\n12          12   5.4\n98          98   6.3\n\n[80 rows x 2 columns]",
      "text/html": "<div>\n<style scoped>\n    .dataframe tbody tr th:only-of-type {\n        vertical-align: middle;\n    }\n\n    .dataframe tbody tr th {\n        vertical-align: top;\n    }\n\n    .dataframe thead th {\n        text-align: right;\n    }\n</style>\n<table border=\"1\" class=\"dataframe\">\n  <thead>\n    <tr style=\"text-align: right;\">\n      <th></th>\n      <th>Unnamed: 0</th>\n      <th>cgpa</th>\n    </tr>\n  </thead>\n  <tbody>\n    <tr>\n      <th>1</th>\n      <td>1</td>\n      <td>5.9</td>\n    </tr>\n    <tr>\n      <th>2</th>\n      <td>2</td>\n      <td>5.3</td>\n    </tr>\n    <tr>\n      <th>15</th>\n      <td>15</td>\n      <td>5.1</td>\n    </tr>\n    <tr>\n      <th>0</th>\n      <td>0</td>\n      <td>6.8</td>\n    </tr>\n    <tr>\n      <th>18</th>\n      <td>18</td>\n      <td>4.0</td>\n    </tr>\n    <tr>\n      <th>...</th>\n      <td>...</td>\n      <td>...</td>\n    </tr>\n    <tr>\n      <th>62</th>\n      <td>62</td>\n      <td>6.0</td>\n    </tr>\n    <tr>\n      <th>97</th>\n      <td>97</td>\n      <td>6.7</td>\n    </tr>\n    <tr>\n      <th>26</th>\n      <td>26</td>\n      <td>7.0</td>\n    </tr>\n    <tr>\n      <th>12</th>\n      <td>12</td>\n      <td>5.4</td>\n    </tr>\n    <tr>\n      <th>98</th>\n      <td>98</td>\n      <td>6.3</td>\n    </tr>\n  </tbody>\n</table>\n<p>80 rows × 2 columns</p>\n</div>"
     },
     "execution_count": 14,
     "metadata": {},
     "output_type": "execute_result"
    }
   ],
   "source": [
    "x_train"
   ],
   "metadata": {
    "collapsed": false
   }
  },
  {
   "cell_type": "code",
   "execution_count": 15,
   "outputs": [
    {
     "data": {
      "text/plain": "1     0\n2     0\n15    0\n0     1\n18    0\n     ..\n62    0\n97    1\n26    1\n12    0\n98    1\nName: placement, Length: 80, dtype: int64"
     },
     "execution_count": 15,
     "metadata": {},
     "output_type": "execute_result"
    }
   ],
   "source": [
    "y_train"
   ],
   "metadata": {
    "collapsed": false
   }
  },
  {
   "cell_type": "code",
   "execution_count": 16,
   "outputs": [
    {
     "data": {
      "text/plain": "    Unnamed: 0  cgpa\n25          25   5.0\n45          45   6.0\n50          50   3.5\n23          23   4.7\n96          96   4.4\n69          69   8.5\n16          16   5.2\n34          34   4.8\n42          42   7.6\n90          90   7.3\n81          81   5.4\n11          11   6.9\n64          64   7.0\n71          71   6.1\n4            4   5.8\n27          27   6.0\n55          55   7.8\n94          94   4.7\n46          46   5.3\n92          92   5.2",
      "text/html": "<div>\n<style scoped>\n    .dataframe tbody tr th:only-of-type {\n        vertical-align: middle;\n    }\n\n    .dataframe tbody tr th {\n        vertical-align: top;\n    }\n\n    .dataframe thead th {\n        text-align: right;\n    }\n</style>\n<table border=\"1\" class=\"dataframe\">\n  <thead>\n    <tr style=\"text-align: right;\">\n      <th></th>\n      <th>Unnamed: 0</th>\n      <th>cgpa</th>\n    </tr>\n  </thead>\n  <tbody>\n    <tr>\n      <th>25</th>\n      <td>25</td>\n      <td>5.0</td>\n    </tr>\n    <tr>\n      <th>45</th>\n      <td>45</td>\n      <td>6.0</td>\n    </tr>\n    <tr>\n      <th>50</th>\n      <td>50</td>\n      <td>3.5</td>\n    </tr>\n    <tr>\n      <th>23</th>\n      <td>23</td>\n      <td>4.7</td>\n    </tr>\n    <tr>\n      <th>96</th>\n      <td>96</td>\n      <td>4.4</td>\n    </tr>\n    <tr>\n      <th>69</th>\n      <td>69</td>\n      <td>8.5</td>\n    </tr>\n    <tr>\n      <th>16</th>\n      <td>16</td>\n      <td>5.2</td>\n    </tr>\n    <tr>\n      <th>34</th>\n      <td>34</td>\n      <td>4.8</td>\n    </tr>\n    <tr>\n      <th>42</th>\n      <td>42</td>\n      <td>7.6</td>\n    </tr>\n    <tr>\n      <th>90</th>\n      <td>90</td>\n      <td>7.3</td>\n    </tr>\n    <tr>\n      <th>81</th>\n      <td>81</td>\n      <td>5.4</td>\n    </tr>\n    <tr>\n      <th>11</th>\n      <td>11</td>\n      <td>6.9</td>\n    </tr>\n    <tr>\n      <th>64</th>\n      <td>64</td>\n      <td>7.0</td>\n    </tr>\n    <tr>\n      <th>71</th>\n      <td>71</td>\n      <td>6.1</td>\n    </tr>\n    <tr>\n      <th>4</th>\n      <td>4</td>\n      <td>5.8</td>\n    </tr>\n    <tr>\n      <th>27</th>\n      <td>27</td>\n      <td>6.0</td>\n    </tr>\n    <tr>\n      <th>55</th>\n      <td>55</td>\n      <td>7.8</td>\n    </tr>\n    <tr>\n      <th>94</th>\n      <td>94</td>\n      <td>4.7</td>\n    </tr>\n    <tr>\n      <th>46</th>\n      <td>46</td>\n      <td>5.3</td>\n    </tr>\n    <tr>\n      <th>92</th>\n      <td>92</td>\n      <td>5.2</td>\n    </tr>\n  </tbody>\n</table>\n</div>"
     },
     "execution_count": 16,
     "metadata": {},
     "output_type": "execute_result"
    }
   ],
   "source": [
    "x_test"
   ],
   "metadata": {
    "collapsed": false
   }
  },
  {
   "cell_type": "code",
   "execution_count": 17,
   "outputs": [
    {
     "data": {
      "text/plain": "25    0\n45    1\n50    0\n23    0\n96    0\n69    1\n16    0\n34    0\n42    1\n90    1\n81    0\n11    1\n64    1\n71    1\n4     0\n27    1\n55    1\n94    0\n46    0\n92    0\nName: placement, dtype: int64"
     },
     "execution_count": 17,
     "metadata": {},
     "output_type": "execute_result"
    }
   ],
   "source": [
    "y_test"
   ],
   "metadata": {
    "collapsed": false
   }
  },
  {
   "cell_type": "code",
   "execution_count": 18,
   "outputs": [],
   "source": [
    "from sklearn.preprocessing import StandardScaler"
   ],
   "metadata": {
    "collapsed": false
   }
  },
  {
   "cell_type": "code",
   "execution_count": 19,
   "outputs": [],
   "source": [
    "scalar=StandardScaler()"
   ],
   "metadata": {
    "collapsed": false
   }
  },
  {
   "cell_type": "code",
   "execution_count": 20,
   "outputs": [],
   "source": [
    "x_train=scalar.fit_transform(x_train)"
   ],
   "metadata": {
    "collapsed": false
   }
  },
  {
   "cell_type": "code",
   "execution_count": 21,
   "outputs": [
    {
     "data": {
      "text/plain": "array([[-1.65866395e+00, -1.12334825e-01],\n       [-1.62406340e+00, -6.56988522e-01],\n       [-1.17425623e+00, -8.38539755e-01],\n       [-1.69326450e+00,  7.04645721e-01],\n       [-1.07045457e+00, -1.83707153e+00],\n       [ 1.75165293e-01,  3.41543256e-01],\n       [-1.20885678e+00,  6.92164073e-02],\n       [-3.78443535e-01,  4.32318872e-01],\n       [ 8.67176328e-01,  6.13870104e-01],\n       [-6.89848501e-01,  8.86196953e-01],\n       [-6.20647397e-01, -1.92784715e+00],\n       [-1.03585402e+00, -7.47764138e-01],\n       [ 3.82768604e-01,  7.95421337e-01],\n       [ 4.86570259e-01,  2.50767640e-01],\n       [ 7.28774121e-01,  2.50767640e-01],\n       [ 1.07477964e+00, -1.02009099e+00],\n       [-3.43842983e-01, -1.29241784e+00],\n       [ 1.00557854e+00,  6.92164073e-02],\n       [-1.45106064e+00, -9.29315371e-01],\n       [ 1.17858129e+00,  1.34007503e+00],\n       [ 8.32575777e-01, -1.02009099e+00],\n       [-1.48566119e+00, -2.93886057e-01],\n       [-2.74641880e-01, -5.66212906e-01],\n       [-5.51446294e-01, -2.15592088e-02],\n       [ 5.55771363e-01,  1.88472873e+00],\n       [ 7.97975225e-01,  1.15852380e+00],\n       [ 9.36377432e-01, -1.02009099e+00],\n       [-1.00125347e+00,  5.23094488e-01],\n       [ 7.13636380e-02, -1.11086660e+00],\n       [-4.82245190e-01,  7.04645721e-01],\n       [ 1.35158405e+00, -1.47396907e+00],\n       [-1.10505512e+00, -2.47250085e+00],\n       [ 2.44366397e-01,  6.92164073e-02],\n       [ 1.14398074e+00,  4.32318872e-01],\n       [ 9.70977984e-01,  1.15852380e+00],\n       [-1.34725898e+00, -2.15592088e-02],\n       [ 5.90371914e-01,  7.95421337e-01],\n       [ 1.38618460e+00, -1.02009099e+00],\n       [-9.32052363e-01, -1.02009099e+00],\n       [ 2.16253449e-03, -5.66212906e-01],\n       [-9.66652915e-01,  9.76972569e-01],\n       [-4.47644638e-01, -2.93886057e-01],\n       [ 4.17369156e-01,  1.15852380e+00],\n       [-6.55247949e-01,  1.43085065e+00],\n       [ 3.13567500e-01,  1.79395311e+00],\n       [ 1.21318185e+00, -2.93886057e-01],\n       [ 1.04017909e+00,  4.32318872e-01],\n       [ 1.24778240e+00, -2.03110441e-01],\n       [-1.38185954e+00, -8.38539755e-01],\n       [-1.58946285e+00,  1.24929942e+00],\n       [ 3.48168052e-01, -1.11086660e+00],\n       [-1.41646009e+00,  6.92164073e-02],\n       [-5.86046845e-01,  8.86196953e-01],\n       [-1.24345733e+00,  3.41543256e-01],\n       [-8.62851260e-01, -1.20164222e+00],\n       [ 2.78966949e-01,  4.32318872e-01],\n       [-3.09242431e-01, -1.02009099e+00],\n       [ 6.59573018e-01, -1.83707153e+00],\n       [-3.24380173e-02,  5.23094488e-01],\n       [-1.70840224e-01,  1.34007503e+00],\n       [ 1.45538571e+00,  1.34007503e+00],\n       [ 1.52458681e+00,  7.04645721e-01],\n       [-6.70385690e-02, -7.47764138e-01],\n       [ 1.05964190e-01,  8.86196953e-01],\n       [-4.13044087e-01,  1.88472873e+00],\n       [ 9.01776880e-01, -1.11086660e+00],\n       [-1.52026174e+00,  9.76972569e-01],\n       [ 1.73219012e+00,  1.59992024e-01],\n       [ 1.59378792e+00, -1.56474468e+00],\n       [ 1.40564742e-01,  2.06627996e+00],\n       [ 1.31698350e+00, -2.93886057e-01],\n       [-7.24449052e-01, -7.47764138e-01],\n       [ 6.24972466e-01, -9.29315371e-01],\n       [ 1.28238295e+00, -8.38539755e-01],\n       [-2.05440776e-01,  7.04645721e-01],\n       [ 4.51969707e-01, -2.15592088e-02],\n       [ 1.66298902e+00,  6.13870104e-01],\n       [-7.93650156e-01,  8.86196953e-01],\n       [-1.27805788e+00, -5.66212906e-01],\n       [ 1.69758957e+00,  2.50767640e-01]])"
     },
     "execution_count": 21,
     "metadata": {},
     "output_type": "execute_result"
    }
   ],
   "source": [
    "x_train"
   ],
   "metadata": {
    "collapsed": false
   }
  },
  {
   "cell_type": "code",
   "execution_count": 22,
   "outputs": [],
   "source": [
    "x_test=scalar.transform(x_test)"
   ],
   "metadata": {
    "collapsed": false
   }
  },
  {
   "cell_type": "code",
   "execution_count": 23,
   "outputs": [
    {
     "data": {
      "text/plain": "array([[-0.82825071, -0.92931537],\n       [-0.13623967, -0.02155921],\n       [ 0.03676309, -2.29094961],\n       [-0.89745181, -1.20164222],\n       [ 1.62838847, -1.47396907],\n       [ 0.69417357,  2.2478312 ],\n       [-1.13965567, -0.74776414],\n       [-0.51684574, -1.1108666 ],\n       [-0.24004133,  1.43085065],\n       [ 1.42078516,  1.1585238 ],\n       [ 1.10938019, -0.56621291],\n       [-1.31265843,  0.79542134],\n       [ 0.52117081,  0.88619695],\n       [ 0.76337467,  0.06921641],\n       [-1.55486229, -0.20311044],\n       [-0.7590496 , -0.02155921],\n       [ 0.20976585,  1.61240188],\n       [ 1.55918736, -1.20164222],\n       [-0.10163912, -0.65698852],\n       [ 1.48998626, -0.74776414]])"
     },
     "execution_count": 23,
     "metadata": {},
     "output_type": "execute_result"
    }
   ],
   "source": [
    "x_test"
   ],
   "metadata": {
    "collapsed": false
   }
  },
  {
   "cell_type": "markdown",
   "source": [
    "# LogisticRegression"
   ],
   "metadata": {
    "collapsed": false
   }
  },
  {
   "cell_type": "code",
   "execution_count": 24,
   "outputs": [],
   "source": [
    "from sklearn.linear_model import LogisticRegression"
   ],
   "metadata": {
    "collapsed": false
   }
  },
  {
   "cell_type": "code",
   "execution_count": 25,
   "outputs": [],
   "source": [
    "temp=LogisticRegression()"
   ],
   "metadata": {
    "collapsed": false
   }
  },
  {
   "cell_type": "code",
   "execution_count": 26,
   "outputs": [
    {
     "data": {
      "text/plain": "LogisticRegression()",
      "text/html": "<style>#sk-container-id-1 {color: black;background-color: white;}#sk-container-id-1 pre{padding: 0;}#sk-container-id-1 div.sk-toggleable {background-color: white;}#sk-container-id-1 label.sk-toggleable__label {cursor: pointer;display: block;width: 100%;margin-bottom: 0;padding: 0.3em;box-sizing: border-box;text-align: center;}#sk-container-id-1 label.sk-toggleable__label-arrow:before {content: \"▸\";float: left;margin-right: 0.25em;color: #696969;}#sk-container-id-1 label.sk-toggleable__label-arrow:hover:before {color: black;}#sk-container-id-1 div.sk-estimator:hover label.sk-toggleable__label-arrow:before {color: black;}#sk-container-id-1 div.sk-toggleable__content {max-height: 0;max-width: 0;overflow: hidden;text-align: left;background-color: #f0f8ff;}#sk-container-id-1 div.sk-toggleable__content pre {margin: 0.2em;color: black;border-radius: 0.25em;background-color: #f0f8ff;}#sk-container-id-1 input.sk-toggleable__control:checked~div.sk-toggleable__content {max-height: 200px;max-width: 100%;overflow: auto;}#sk-container-id-1 input.sk-toggleable__control:checked~label.sk-toggleable__label-arrow:before {content: \"▾\";}#sk-container-id-1 div.sk-estimator input.sk-toggleable__control:checked~label.sk-toggleable__label {background-color: #d4ebff;}#sk-container-id-1 div.sk-label input.sk-toggleable__control:checked~label.sk-toggleable__label {background-color: #d4ebff;}#sk-container-id-1 input.sk-hidden--visually {border: 0;clip: rect(1px 1px 1px 1px);clip: rect(1px, 1px, 1px, 1px);height: 1px;margin: -1px;overflow: hidden;padding: 0;position: absolute;width: 1px;}#sk-container-id-1 div.sk-estimator {font-family: monospace;background-color: #f0f8ff;border: 1px dotted black;border-radius: 0.25em;box-sizing: border-box;margin-bottom: 0.5em;}#sk-container-id-1 div.sk-estimator:hover {background-color: #d4ebff;}#sk-container-id-1 div.sk-parallel-item::after {content: \"\";width: 100%;border-bottom: 1px solid gray;flex-grow: 1;}#sk-container-id-1 div.sk-label:hover label.sk-toggleable__label {background-color: #d4ebff;}#sk-container-id-1 div.sk-serial::before {content: \"\";position: absolute;border-left: 1px solid gray;box-sizing: border-box;top: 0;bottom: 0;left: 50%;z-index: 0;}#sk-container-id-1 div.sk-serial {display: flex;flex-direction: column;align-items: center;background-color: white;padding-right: 0.2em;padding-left: 0.2em;position: relative;}#sk-container-id-1 div.sk-item {position: relative;z-index: 1;}#sk-container-id-1 div.sk-parallel {display: flex;align-items: stretch;justify-content: center;background-color: white;position: relative;}#sk-container-id-1 div.sk-item::before, #sk-container-id-1 div.sk-parallel-item::before {content: \"\";position: absolute;border-left: 1px solid gray;box-sizing: border-box;top: 0;bottom: 0;left: 50%;z-index: -1;}#sk-container-id-1 div.sk-parallel-item {display: flex;flex-direction: column;z-index: 1;position: relative;background-color: white;}#sk-container-id-1 div.sk-parallel-item:first-child::after {align-self: flex-end;width: 50%;}#sk-container-id-1 div.sk-parallel-item:last-child::after {align-self: flex-start;width: 50%;}#sk-container-id-1 div.sk-parallel-item:only-child::after {width: 0;}#sk-container-id-1 div.sk-dashed-wrapped {border: 1px dashed gray;margin: 0 0.4em 0.5em 0.4em;box-sizing: border-box;padding-bottom: 0.4em;background-color: white;}#sk-container-id-1 div.sk-label label {font-family: monospace;font-weight: bold;display: inline-block;line-height: 1.2em;}#sk-container-id-1 div.sk-label-container {text-align: center;}#sk-container-id-1 div.sk-container {/* jupyter's `normalize.less` sets `[hidden] { display: none; }` but bootstrap.min.css set `[hidden] { display: none !important; }` so we also need the `!important` here to be able to override the default hidden behavior on the sphinx rendered scikit-learn.org. See: https://github.com/scikit-learn/scikit-learn/issues/21755 */display: inline-block !important;position: relative;}#sk-container-id-1 div.sk-text-repr-fallback {display: none;}</style><div id=\"sk-container-id-1\" class=\"sk-top-container\"><div class=\"sk-text-repr-fallback\"><pre>LogisticRegression()</pre><b>In a Jupyter environment, please rerun this cell to show the HTML representation or trust the notebook. <br />On GitHub, the HTML representation is unable to render, please try loading this page with nbviewer.org.</b></div><div class=\"sk-container\" hidden><div class=\"sk-item\"><div class=\"sk-estimator sk-toggleable\"><input class=\"sk-toggleable__control sk-hidden--visually\" id=\"sk-estimator-id-1\" type=\"checkbox\" checked><label for=\"sk-estimator-id-1\" class=\"sk-toggleable__label sk-toggleable__label-arrow\">LogisticRegression</label><div class=\"sk-toggleable__content\"><pre>LogisticRegression()</pre></div></div></div></div></div>"
     },
     "execution_count": 26,
     "metadata": {},
     "output_type": "execute_result"
    }
   ],
   "source": [
    "#model train\n",
    "temp.fit(x_train,y_train)"
   ],
   "metadata": {
    "collapsed": false
   }
  },
  {
   "cell_type": "code",
   "execution_count": 27,
   "outputs": [],
   "source": [
    "y_prediction=temp.predict(x_test)"
   ],
   "metadata": {
    "collapsed": false
   }
  },
  {
   "cell_type": "code",
   "execution_count": 28,
   "outputs": [
    {
     "data": {
      "text/plain": "25    0\n45    1\n50    0\n23    0\n96    0\n69    1\n16    0\n34    0\n42    1\n90    1\n81    0\n11    1\n64    1\n71    1\n4     0\n27    1\n55    1\n94    0\n46    0\n92    0\nName: placement, dtype: int64"
     },
     "execution_count": 28,
     "metadata": {},
     "output_type": "execute_result"
    }
   ],
   "source": [
    "y_test"
   ],
   "metadata": {
    "collapsed": false
   }
  },
  {
   "cell_type": "markdown",
   "source": [
    "# Accuracy"
   ],
   "metadata": {
    "collapsed": false
   }
  },
  {
   "cell_type": "code",
   "execution_count": 29,
   "outputs": [],
   "source": [
    "from sklearn.metrics import accuracy_score"
   ],
   "metadata": {
    "collapsed": false
   }
  },
  {
   "cell_type": "code",
   "execution_count": 30,
   "outputs": [
    {
     "data": {
      "text/plain": "0.9"
     },
     "execution_count": 30,
     "metadata": {},
     "output_type": "execute_result"
    }
   ],
   "source": [
    "accuracy_score(y_test,y_prediction)"
   ],
   "metadata": {
    "collapsed": false
   }
  },
  {
   "cell_type": "code",
   "execution_count": 31,
   "outputs": [],
   "source": [
    "from mlxtend.plotting import plot_decision_regions"
   ],
   "metadata": {
    "collapsed": false
   }
  },
  {
   "cell_type": "markdown",
   "source": [],
   "metadata": {
    "collapsed": false
   }
  },
  {
   "cell_type": "markdown",
   "source": [],
   "metadata": {
    "collapsed": false
   }
  },
  {
   "cell_type": "code",
   "execution_count": 32,
   "outputs": [
    {
     "data": {
      "text/plain": "<AxesSubplot: >"
     },
     "execution_count": 32,
     "metadata": {},
     "output_type": "execute_result"
    },
    {
     "data": {
      "text/plain": "<Figure size 640x480 with 1 Axes>",
      "image/png": "[encoded data removed]"
     },
     "metadata": {},
     "output_type": "display_data"
    }
   ],
   "source": [
    "plot_decision_regions(x_train,y_train.values,clf=temp,legend=2)"
   ],
   "metadata": {
    "collapsed": false
   }
  },
  {
   "cell_type": "code",
   "execution_count": 33,
   "outputs": [
    {
     "data": {
      "text/plain": "0.9"
     },
     "execution_count": 33,
     "metadata": {},
     "output_type": "execute_result"
    }
   ],
   "source": [
    "accuracy_score(y_test,y_prediction)"
   ],
   "metadata": {
    "collapsed": false
   }
  },
  {
   "cell_type": "code",
   "execution_count": 34,
   "outputs": [
    {
     "data": {
      "text/plain": "<Figure size 640x480 with 1 Axes>",
      "image/png": "[encoded data removed]"
     },
     "metadata": {},
     "output_type": "display_data"
    }
   ],
   "source": [
    "plt.scatter(y_test,y_prediction,color='blue')\n",
    "x0=min(y_test)\n",
    "x1=max(y_test)\n",
    "y0=min(y_prediction)\n",
    "y1=max(y_prediction)\n",
    "\n",
    "plt.plot([x0,x1],[y0,y1],color=\"orange\")\n",
    "\n",
    "plt.xlabel(\"CGPA\")\n",
    "plt.ylabel(\"Placement\")\n",
    "plt.title(\"Placement-logistic-regression\")\n",
    "\n",
    "plt.show()"
   ],
   "metadata": {
    "collapsed": false
   }
  },
  {
   "cell_type": "code",
   "execution_count": 35,
   "outputs": [],
   "source": [
    "# plt.scatter(x0,y0,color='g')\n",
    "# plt.plot(x0,temp.predict(y0),color='k')\n",
    "#\n",
    "# plt.show()"
   ],
   "metadata": {
    "collapsed": false
   }
  },
  {
   "cell_type": "code",
   "execution_count": 36,
   "outputs": [],
   "source": [
    "# plt.scatter(x0,y0,color='b')\n",
    "# plt.plot(x0,y_prediction,color='k')\n",
    "#\n",
    "# plt.show()"
   ],
   "metadata": {
    "collapsed": false
   }
  },
  {
   "cell_type": "markdown",
   "source": [
    "# Accurate percentage Model"
   ],
   "metadata": {
    "collapsed": false
   }
  },
  {
   "cell_type": "code",
   "execution_count": 37,
   "outputs": [
    {
     "name": "stdout",
     "output_type": "stream",
     "text": [
      "90.0 %\n"
     ]
    }
   ],
   "source": [
    "# NOTE: Accuracy (e.g. classification accuracy) is a measure for classification,\n",
    "# not regression so we can't calculate accuracy for a regression model.\n",
    "# For regression, one of the matrices we've to get the score\n",
    "# (ambiguously termed as accuracy) is R-squared (R2).\n",
    "\n",
    "#Soucre->stackoverflow\n",
    "temp.fit(x_train,y_train)\n",
    "finalScore=temp.score(x_test,y_test)\n",
    "print(finalScore*100,'%')"
   ],
   "metadata": {
    "collapsed": false
   }
  },
  {
   "cell_type": "code",
   "execution_count": 38,
   "outputs": [
    {
     "data": {
      "text/plain": "<matplotlib.collections.PathCollection at 0x240377e8bd0>"
     },
     "execution_count": 38,
     "metadata": {},
     "output_type": "execute_result"
    },
    {
     "data": {
      "text/plain": "<Figure size 640x480 with 1 Axes>",
      "image/png": "[encoded data removed]"
     },
     "metadata": {},
     "output_type": "display_data"
    }
   ],
   "source": [
    "plt.scatter(df.cgpa,df.placement,marker='+',color='m')"
   ],
   "metadata": {
    "collapsed": false
   }
  }
 ],
 "metadata": {
  "kernelspec": {
   "display_name": "Python 3",
   "language": "python",
   "name": "python3"
  },
  "language_info": {
   "codemirror_mode": {
    "name": "ipython",
    "version": 2
   },
   "file_extension": ".py",
   "mimetype": "text/x-python",
   "name": "python",
   "nbconvert_exporter": "python",
   "pygments_lexer": "ipython2",
   "version": "2.7.6"
  }
 },
 "nbformat": 4,
 "nbformat_minor": 0
}
